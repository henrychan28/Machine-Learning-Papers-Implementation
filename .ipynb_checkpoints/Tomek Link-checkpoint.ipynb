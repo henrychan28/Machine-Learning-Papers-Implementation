{
 "cells": [
  {
   "cell_type": "markdown",
   "metadata": {},
   "source": [
    "<h2>Implementation of \"Addessing the Curse of Imbalanced Training Sets: One-Sided Selection\"</h2>"
   ]
  },
  {
   "cell_type": "code",
   "execution_count": 97,
   "metadata": {},
   "outputs": [],
   "source": [
    "from sklearn.neighbors import NearestNeighbors, KNeighborsClassifier\n",
    "from scipy.stats import mode\n",
    "import numpy as np\n",
    "import random\n",
    "import seaborn as sns\n",
    "import pandas as pd"
   ]
  },
  {
   "cell_type": "code",
   "execution_count": 104,
   "metadata": {},
   "outputs": [],
   "source": [
    "def plot_data(X,y):\n",
    "    x_1 = [sample[0] for sample in X]\n",
    "    x_2 = [sample[1] for sample in X]\n",
    "    df = pd.DataFrame()\n",
    "    df['x_1']=x_1\n",
    "    df['x_2']=x_2\n",
    "    df['y']=y\n",
    "    sns.lmplot(x='x_1', y='x_2', data=df, hue='y', fit_reg = False)"
   ]
  },
  {
   "cell_type": "code",
   "execution_count": 151,
   "metadata": {},
   "outputs": [],
   "source": [
    "def TomekLinkSelection(X, y, metric='l2', random_state = 0):\n",
    "    if(mode(y)[0][0]==0):\n",
    "        minority = 1\n",
    "    else:\n",
    "        minority = 0\n",
    "        \n",
    "    positive_index_storage = []\n",
    "    for index, _ in enumerate(y):\n",
    "        if(y[index]==minority):\n",
    "            positive_index_storage.append(index)\n",
    "    while True:\n",
    "        random_non_minority_index = random.randint(0, len(y)-1)\n",
    "        if(y[random_non_minority_index]!=minority):\n",
    "            break\n",
    "            \n",
    "    training_samples_X = [X[index] for index in positive_index_storage or index == random_non_minority_index]\n",
    "    training_samples_y = [y[index] for index in positive_index_storage or index == random_non_minority_index]\n",
    "\n",
    "    misclassified_index_storage = []\n",
    "    KN_clf = KNeighborsClassifier(n_neighbors=1)\n",
    "    KN_clf.fit(training_samples_X,  training_samples_y)\n",
    "    KN_clf_pred =  KN_clf.predict(X)\n",
    "    for index, result in enumerate(KN_clf_pred):\n",
    "        if(y[index]!= minority and index!= random_non_minority_index and y[index]!=result):\n",
    "            misclassified_index_storage.append(index)\n",
    "    \n",
    "    C = positive_index_storage + misclassified_index_storage\n",
    "    C.append(random_non_minority_index)\n",
    "    \n",
    "    kneighbor = NearestNeighbors(n_neighbors=2)\n",
    "    kneighbor.fit(X)\n",
    "    kneighbors = [neighbor[1] for neighbor in kneighbor.kneighbors(X)[1]]\n",
    "    print(kneighbors)\n",
    "    tomek_link_index = []\n",
    "    for index, _ in enumerate(kneighbors):\n",
    "        neighbor_point_index = kneighbors[index]\n",
    "        if(kneighbors[neighbor_point_index] == index):\n",
    "            tomek_link_index.append(index)\n",
    "            \n",
    "    \n",
    "    X_T = [X[index] for index in C \n",
    "         if index in positive_index_storage or \n",
    "         (y[index]!=minority and index not in tomek_link_index)]\n",
    "    y_T= [y[index] for index in C\n",
    "         if index in positive_index_storage or \n",
    "         (y[index]!=minority and index not in tomek_link_index)]\n",
    "    return X_T, y_T"
   ]
  },
  {
   "cell_type": "code",
   "execution_count": 155,
   "metadata": {},
   "outputs": [],
   "source": [
    "number_of_entry = 40\n",
    "X = [[random.gauss(2,0.5),random.gauss(2,0.5)] for i in range(int(number_of_entry/10)) ]\n",
    "X += [[random.gauss(3,0.1),random.gauss(3,0.5)] for i in range(int(9*number_of_entry/10))]\n",
    "y = [0 if i >=number_of_entry/10 else 1 for i in range(number_of_entry)]\n"
   ]
  },
  {
   "cell_type": "code",
   "execution_count": 156,
   "metadata": {},
   "outputs": [
    {
     "data": {
      "text/plain": [
       "3"
      ]
     },
     "execution_count": 156,
     "metadata": {},
     "output_type": "execute_result"
    }
   ],
   "source": [
    "a = [1,3,5,6,3,3,4,3,3,3]\n",
    "mode(a)[0][0]"
   ]
  },
  {
   "cell_type": "code",
   "execution_count": 157,
   "metadata": {},
   "outputs": [
    {
     "data": {
      "image/png": "[encoded data removed]",
      "text/plain": [
       "<matplotlib.figure.Figure at 0x176e3f047f0>"
      ]
     },
     "metadata": {},
     "output_type": "display_data"
    }
   ],
   "source": [
    "plot_data(X,y)"
   ]
  },
  {
   "cell_type": "code",
   "execution_count": 158,
   "metadata": {},
   "outputs": [
    {
     "name": "stdout",
     "output_type": "stream",
     "text": [
      "[3, 2, 0, 0, 36, 22, 16, 26, 9, 8, 11, 10, 14, 20, 12, 39, 6, 16, 13, 29, 13, 23, 5, 21, 25, 24, 7, 36, 31, 19, 37, 7, 39, 24, 20, 38, 4, 30, 35, 32]\n"
     ]
    },
    {
     "data": {
      "text/plain": [
       "12"
      ]
     },
     "execution_count": 158,
     "metadata": {},
     "output_type": "execute_result"
    },
    {
     "data": {
      "image/png": "[encoded data removed]",
      "text/plain": [
       "<matplotlib.figure.Figure at 0x176e3f5e390>"
      ]
     },
     "metadata": {},
     "output_type": "display_data"
    }
   ],
   "source": [
    "X_T, y_T = TomekLinkSelection(X, y)\n",
    "plot_data(X_T,y_T)\n",
    "len(X_T)"
   ]
  },
  {
   "cell_type": "code",
   "execution_count": null,
   "metadata": {},
   "outputs": [],
   "source": []
  }
 ],
 "metadata": {
  "kernelspec": {
   "display_name": "Python [conda env:py36]",
   "language": "python",
   "name": "conda-env-py36-py"
  },
  "language_info": {
   "codemirror_mode": {
    "name": "ipython",
    "version": 3
   },
   "file_extension": ".py",
   "mimetype": "text/x-python",
   "name": "python",
   "nbconvert_exporter": "python",
   "pygments_lexer": "ipython3",
   "version": "3.6.4"
  }
 },
 "nbformat": 4,
 "nbformat_minor": 2
}
