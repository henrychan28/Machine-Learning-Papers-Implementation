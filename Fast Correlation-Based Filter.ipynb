{
 "cells": [
  {
   "cell_type": "markdown",
   "metadata": {},
   "source": [
    "<h3>Implementation of \"Feature Selection for High Dimensional Data: A Fast Correlation-Based Filter Solution\"</h3>"
   ]
  },
  {
   "cell_type": "code",
   "execution_count": 48,
   "metadata": {},
   "outputs": [],
   "source": [
    "import numpy as np \n",
    "from math import log\n",
    "import random"
   ]
  },
  {
   "cell_type": "code",
   "execution_count": 34,
   "metadata": {},
   "outputs": [],
   "source": [
    "# Given a 1-dimensional list, return the information entropy of the list\n",
    "# H(X)\n",
    "def entropy_single(X):\n",
    "    X_set = set(X)\n",
    "    number_of_entry = len(X)\n",
    "    entropy = 0\n",
    "    for x in X_set:\n",
    "        number_of_occurence = X.count(x)\n",
    "        P_x = number_of_occurence/number_of_entry\n",
    "        entropy -= (P_x)*log(P_x)\n",
    "    return entropy"
   ]
  },
  {
   "cell_type": "code",
   "execution_count": 53,
   "metadata": {},
   "outputs": [],
   "source": [
    "# Given two 1-dimensional list, it returns the entropy of the first list condition on the second list\n",
    "# H(X|Y)\n",
    "def entropy_conditional(X,Y):\n",
    "    if(len(X)!=len(Y)):\n",
    "        raise Exception(\"Dimension of both input must be the same\")\n",
    "    number_of_entry = len(Y)\n",
    "    Y_set = set(Y)   \n",
    "    entropy = 0\n",
    "    for y in Y_set:\n",
    "        number_of_occurence = Y.count(y)\n",
    "        P_y = number_of_occurence/number_of_entry\n",
    "        index_filter = [index for index, element in enumerate(Y) if element == y]\n",
    "        X_filtered = [X[index] for index in index_filter]\n",
    "        entropy -= P_y * (-entropy_single(X_filtered))\n",
    "    return entropy"
   ]
  },
  {
   "cell_type": "code",
   "execution_count": 59,
   "metadata": {},
   "outputs": [],
   "source": [
    "def information_gain(X,Y):\n",
    "    return entropy_single(X)-entropy_conditional(X,Y)"
   ]
  },
  {
   "cell_type": "code",
   "execution_count": 60,
   "metadata": {},
   "outputs": [],
   "source": [
    "def symmetrical_uncertainty(X,Y):\n",
    "    return 2*information_gain(X,Y)/(entropy_single(X)+entropy_single(Y))"
   ]
  },
  {
   "cell_type": "code",
   "execution_count": 62,
   "metadata": {},
   "outputs": [],
   "source": [
    "# X[i] = ith feature ; X[i][j] = jth entry of ith feature ; y[i] = ith entry of class list\n",
    "# Conduct Fast Correlation-Based Filter on X, y\n",
    "def FCBF(X, y, threshold = 0.5):\n",
    "    if(len(X)!=len(Y)):\n",
    "        raise Exception(\"Dimension of both input must be the same\")\n",
    "    elif(len(X)==0):\n",
    "        raise Exception(\"Input cannot be zero\")\n",
    "    number_of_feature = len(X)\n",
    "    S_list = []\n",
    "    for feature_index in range(number_of_feature):\n",
    "        SU = symmetrical_uncertainty(X[feature_index], y)\n",
    "        if(SU>=threshold):\n",
    "             S_list.append([feature_index, SU])\n",
    "    S_list.sort(key= lambda x: -x[1])\n",
    "    F_p = S_list[0][0]\n",
    "    while F_p "
   ]
  },
  {
   "cell_type": "code",
   "execution_count": 65,
   "metadata": {},
   "outputs": [
    {
     "data": {
      "text/plain": [
       "[[2, 3], [1, 2], [5, 2], [3, 1]]"
      ]
     },
     "execution_count": 65,
     "metadata": {},
     "output_type": "execute_result"
    }
   ],
   "source": [
    "a = [[1,2],[2,3],[3,1],[5,2]]\n",
    "a.sort(key= lambda x: -x[1])\n",
    "a"
   ]
  },
  {
   "cell_type": "code",
   "execution_count": null,
   "metadata": {},
   "outputs": [],
   "source": []
  }
 ],
 "metadata": {
  "kernelspec": {
   "display_name": "Python [conda env:py36]",
   "language": "python",
   "name": "conda-env-py36-py"
  },
  "language_info": {
   "codemirror_mode": {
    "name": "ipython",
    "version": 3
   },
   "file_extension": ".py",
   "mimetype": "text/x-python",
   "name": "python",
   "nbconvert_exporter": "python",
   "pygments_lexer": "ipython3",
   "version": "3.6.4"
  }
 },
 "nbformat": 4,
 "nbformat_minor": 2
}
