{
 "cells": [
  {
   "cell_type": "markdown",
   "metadata": {},
   "source": [
    "<h3>Implementation of \"Feature Selection for High Dimensional Data: A Fast Correlation-Based Filter Solution\"</h3>"
   ]
  },
  {
   "cell_type": "code",
   "execution_count": 1,
   "metadata": {},
   "outputs": [],
   "source": [
    "import numpy as np \n",
    "from math import log\n",
    "import random"
   ]
  },
  {
   "cell_type": "code",
   "execution_count": 2,
   "metadata": {},
   "outputs": [],
   "source": [
    "# Given a 1-dimensional list, return the information entropy of the list\n",
    "# H(X)\n",
    "def entropy_single(X):\n",
    "    X_set = set(X)\n",
    "    number_of_entry = len(X)\n",
    "    entropy = 0\n",
    "    for x in X_set:\n",
    "        number_of_occurence = X.count(x)\n",
    "        P_x = number_of_occurence/number_of_entry\n",
    "        entropy -= (P_x)*log(P_x)\n",
    "    return entropy"
   ]
  },
  {
   "cell_type": "code",
   "execution_count": 3,
   "metadata": {},
   "outputs": [],
   "source": [
    "# Given two 1-dimensional list, it returns the entropy of the first list condition on the second list\n",
    "# H(X|Y)\n",
    "def entropy_conditional(X,Y):\n",
    "    if(len(X)!=len(Y)):\n",
    "        raise Exception(\"Dimension of both input must be the same\")\n",
    "    number_of_entry = len(Y)\n",
    "    Y_set = set(Y)   \n",
    "    entropy = 0\n",
    "    for y in Y_set:\n",
    "        number_of_occurence = Y.count(y)\n",
    "        P_y = number_of_occurence/number_of_entry\n",
    "        index_filter = [index for index, element in enumerate(Y) if element == y]\n",
    "        X_filtered = [X[index] for index in index_filter]\n",
    "        entropy -= P_y * (-entropy_single(X_filtered))\n",
    "    return entropy"
   ]
  },
  {
   "cell_type": "code",
   "execution_count": 4,
   "metadata": {},
   "outputs": [],
   "source": [
    "def information_gain(X,Y):\n",
    "    return entropy_single(X)-entropy_conditional(X,Y)"
   ]
  },
  {
   "cell_type": "code",
   "execution_count": 5,
   "metadata": {},
   "outputs": [],
   "source": [
    "def symmetrical_uncertainty(X,Y):\n",
    "    return 2*information_gain(X,Y)/(entropy_single(X)+entropy_single(Y))"
   ]
  },
  {
   "cell_type": "code",
   "execution_count": 6,
   "metadata": {},
   "outputs": [],
   "source": [
    "# S is an array with format [feature_index, SU, keep_data] for each entry\n",
    "# F_p is an element in the array S\n",
    "def get_next_element(S, F_p):\n",
    "    S_size = len(S)\n",
    "    next_index = S.index(F_p)\n",
    "    while(next_index<S_size):\n",
    "        next_index += 1\n",
    "        if(next_index==S_size):\n",
    "            return None\n",
    "        elif(S[next_index][2]==1):\n",
    "            return S[next_index]\n",
    "        else:\n",
    "            continue\n",
    "    return None\n",
    "    \n",
    "def get_first_element(S):\n",
    "    if len(S)==0:\n",
    "        return None\n",
    "    else:\n",
    "        return S[0]\n",
    "def remove_element(S, F_p):\n",
    "    remove_index = S.index(F_p)\n",
    "    S[remove_index][2] = 0\n",
    "    return S"
   ]
  },
  {
   "cell_type": "code",
   "execution_count": 13,
   "metadata": {},
   "outputs": [],
   "source": [
    "# X[i] = ith feature ; X[i][j] = jth entry of ith feature ; y[i] = ith entry of class list\n",
    "# Conduct Fast Correlation-Based Filter on X, y\n",
    "def FCBF(X, y, threshold = 0.1):\n",
    "    if(len(X)==0):\n",
    "        raise Exception(\"Input cannot be zero\")\n",
    "    elif(len(X[0])!=len(y)):\n",
    "        raise Exception(\"Dimension of both input must be the same\")\n",
    "    number_of_feature = len(X)\n",
    "    S_list = []\n",
    "    for feature_index in range(number_of_feature):\n",
    "        SU = symmetrical_uncertainty(X[feature_index], y)\n",
    "        if(SU>=threshold):\n",
    "             S_list.append([feature_index, SU, 1])\n",
    "    S_list_length = len(S_list)\n",
    "    S_list.sort(key= lambda x: -x[1])\n",
    "    F_p = get_first_element(S_list)\n",
    "    while F_p!=None:\n",
    "        F_q = get_next_element(S_list, F_p)\n",
    "        while(F_q!=None):\n",
    "            F_q_dash = F_q\n",
    "            SU_pq = symmetrical_uncertainty(X[F_q[0]], X[F_p[0]])\n",
    "            if(SU_pq >= F_q[1]):\n",
    "                S_list = remove_element(S_list, F_q)\n",
    "                F_q = get_next_element(S_list, F_q_dash)\n",
    "            else:\n",
    "                F_q = get_next_element(S_list, F_q)\n",
    "        F_p = get_next_element(S_list,F_p)\n",
    "    X_filtered = []\n",
    "    filtered_index = []\n",
    "    for element in S_list:\n",
    "        if(element[2]==1):\n",
    "            X_filtered.append(X[element[0]])\n",
    "            filtered_index.append(element[0])\n",
    "        else:\n",
    "            continue\n",
    "    [element for element in S_list if ]\n",
    "    return X_filtered, filtered_index"
   ]
  },
  {
   "cell_type": "markdown",
   "metadata": {},
   "source": [
    "UCI Machine Learning Repository: Molecular Biology (Splice-junction Gene Sequences) Data Set "
   ]
  },
  {
   "cell_type": "code",
   "execution_count": 14,
   "metadata": {},
   "outputs": [],
   "source": [
    "with open(\"data.txt\", \"r\") as lines:\n",
    "    data = []\n",
    "    for line in lines:\n",
    "        data.append([x.strip() for x in line.split(',')])"
   ]
  },
  {
   "cell_type": "code",
   "execution_count": 15,
   "metadata": {},
   "outputs": [],
   "source": [
    "for index,datum in enumerate(data):\n",
    "    data[index] += list(datum[2])\n",
    "    del data[index][2]"
   ]
  },
  {
   "cell_type": "code",
   "execution_count": 16,
   "metadata": {},
   "outputs": [],
   "source": [
    "data_transpose = [list(i) for i in zip(*data)]\n",
    "splice_class = data_transpose[0]\n",
    "del data_transpose[0]\n",
    "data_input = data_transpose"
   ]
  },
  {
   "cell_type": "code",
   "execution_count": 22,
   "metadata": {},
   "outputs": [
    {
     "data": {
      "text/plain": [
       "[30,\n",
       " 29,\n",
       " 31,\n",
       " 32,\n",
       " 35,\n",
       " 28,\n",
       " 33,\n",
       " 34,\n",
       " 25,\n",
       " 24,\n",
       " 23,\n",
       " 20,\n",
       " 19,\n",
       " 21,\n",
       " 18,\n",
       " 17,\n",
       " 16,\n",
       " 9,\n",
       " 14,\n",
       " 6,\n",
       " 12,\n",
       " 55]"
      ]
     },
     "execution_count": 22,
     "metadata": {},
     "output_type": "execute_result"
    }
   ],
   "source": [
    "FCBF(data_input, splice_class, threshold=0.0)[1]"
   ]
  },
  {
   "cell_type": "code",
   "execution_count": null,
   "metadata": {},
   "outputs": [],
   "source": []
  },
  {
   "cell_type": "code",
   "execution_count": null,
   "metadata": {},
   "outputs": [],
   "source": []
  }
 ],
 "metadata": {
  "kernelspec": {
   "display_name": "Python [conda env:py36]",
   "language": "python",
   "name": "conda-env-py36-py"
  },
  "language_info": {
   "codemirror_mode": {
    "name": "ipython",
    "version": 3
   },
   "file_extension": ".py",
   "mimetype": "text/x-python",
   "name": "python",
   "nbconvert_exporter": "python",
   "pygments_lexer": "ipython3",
   "version": "3.6.4"
  }
 },
 "nbformat": 4,
 "nbformat_minor": 2
}
