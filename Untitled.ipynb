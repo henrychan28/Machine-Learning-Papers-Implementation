{
 "cells": [
  {
   "cell_type": "markdown",
   "metadata": {},
   "source": [
    "<h1> Implementation of Down-Sampling Methods for Handling Data Imbalance </h1>\n",
    "<p> Name: Chan Wing Kin (20277087)\n",
    "<p>Data imbalance may be detrimental to the performance of machine learning algorithms. There are several ways to handle data imbalance issue:</p>\n",
    "<ul>\n",
    "    <li>Up Sampling</li>\n",
    "    <li>Down Sampling</li>\n",
    "    <li>Modify loss function</li>\n",
    "</ul>\n",
    "<p>In this project, several common down sampling techniques will be explored:</p>\n",
    "<ul>\n",
    "    <li>Random Down-sampling</li>\n",
    "    <li>Condensed Nearest Neighbor (CNN) - <i>Hart, P. (1968). The condensed nearest neighbor rule (Corresp.). IEEE transactions on information theory, 14(3), 515-516.</i></li>\n",
    "    \n",
    "    <li>Neighborhood Cleaning Rule - <i>Laurikkala, J. (2001, July). Improving identification of difficult small classes by balancing class distribution. In Conference on Artificial Intelligence in Medicine in Europe (pp. 63-66). Springer, Berlin, Heidelberg.</i></li>\n",
    "    \n",
    "    <li>TomeK Link + CNN - <i>Kubat, M., & Matwin, S. (1997, July). Addressing the curse of imbalanced training sets: one-sided selection. In ICML (Vol. 97, pp. 179-186).</i></li>\n",
    "</ul>\n",
    "<p>In the first section of the project, algorithms will be introduced, following up a study of their behavior through simple randomly generated dataset. Then, algorithms will be tested in datasets from UCI machine learning repository.</p>\n",
    "<p>Finally, the finding will be discussed to understand/gain insight from these algorithms.</p>"
   ]
  },
  {
   "cell_type": "code",
   "execution_count": 527,
   "metadata": {},
   "outputs": [],
   "source": [
    "from sklearn.decomposition import PCA\n",
    "from sklearn.feature_extraction import DictVectorizer\n",
    "from sklearn.neighbors import NearestNeighbors, KNeighborsClassifier\n",
    "from sklearn import preprocessing\n",
    "from sklearn.model_selection import train_test_split, KFold\n",
    "from sklearn.utils import shuffle\n",
    "import pandas as pd\n",
    "import numpy as np\n",
    "from scipy.stats import mode\n",
    "import random\n",
    "import seaborn as sns\n",
    "import pandas as pd\n",
    "import collections\n",
    "import matplotlib.pyplot as plt\n",
    "from sklearn.preprocessing import MinMaxScaler, Normalizer"
   ]
  },
  {
   "cell_type": "code",
   "execution_count": 20,
   "metadata": {},
   "outputs": [],
   "source": [
    "def plot_data(X,y, title = \"\"):\n",
    "    x_1 = [sample[0] for sample in X]\n",
    "    x_2 = [sample[1] for sample in X]\n",
    "    df = pd.DataFrame()\n",
    "    df['x_1']=x_1\n",
    "    df['x_2']=x_2\n",
    "    df['y']=y\n",
    "    sns.lmplot(x='x_1', y='x_2', data=df, hue='y', fit_reg = False)\n",
    "    ax = plt.gca()\n",
    "    ax.set_title(title)"
   ]
  },
  {
   "cell_type": "code",
   "execution_count": 533,
   "metadata": {},
   "outputs": [],
   "source": [
    "def shuffle_two_list(X, y):\n",
    "    temp_zip = list(zip(X,y))\n",
    "    random.shuffle(temp_zip)\n",
    "    X, y = zip(*temp_zip)\n",
    "    return X, y"
   ]
  },
  {
   "cell_type": "code",
   "execution_count": 137,
   "metadata": {},
   "outputs": [],
   "source": [
    "def get_least_frequent_items(x):\n",
    "    counter = collections.Counter(x).most_common()\n",
    "    least_occurence = counter[-1][1]\n",
    "    return [least_common[0] for least_common in counter if least_common[1]==least_occurence]"
   ]
  },
  {
   "cell_type": "markdown",
   "metadata": {},
   "source": [
    "<h3>Random Down-sampling</h3>"
   ]
  },
  {
   "cell_type": "markdown",
   "metadata": {},
   "source": [
    "<p>Random down-sampling is the simpliest down-sampling technique commonly used in data balancing.</p>\n",
    "<p>It has demonstrated excellent performance in different tasks when the data size is large and the imbalance is not too extreme. </p>\n",
    "<p>Random down-sampling picks the least frequent(minority) class(es), then keep all the minority class while randomly picking same number of data from the majority class, achieving the same number of samples from both the majority and minority classes. </p>"
   ]
  },
  {
   "cell_type": "code",
   "execution_count": 449,
   "metadata": {},
   "outputs": [],
   "source": [
    "def random_downdsampling(X,y):\n",
    "    X = list(X)\n",
    "    y = list(y)\n",
    "    minority = set([y_i for y_i in y if y_i in get_least_frequent_items(y)])\n",
    "    max_count = 0\n",
    "    for minClass in minority:\n",
    "        if y.count(minClass) > max_count:\n",
    "            max_count = y.count(minClass)\n",
    "    X_downsampled = [X_i for idx, X_i in enumerate(X) if y[idx] in minority]\n",
    "    y_downsampled = [y_i for y_i in y if y_i in minority]\n",
    "    for classCurrent in set(y):\n",
    "        max_count_current = max_count\n",
    "        if classCurrent not in minority:\n",
    "            for(X_i, y_i) in zip(X,y):\n",
    "                if(y_i==classCurrent and max_count_current > 0):\n",
    "                    X_downsampled.append(X_i)\n",
    "                    y_downsampled.append(y_i)\n",
    "                    max_count_current -= 1\n",
    "            \n",
    "    return X_downsampled, y_downsampled"
   ]
  },
  {
   "cell_type": "markdown",
   "metadata": {},
   "source": [
    "<h3>Condensed Nearest Neighbor (CNN)</h3>"
   ]
  },
  {
   "cell_type": "markdown",
   "metadata": {},
   "source": [
    "<p> Condensed Nearest Neighbor is a algorithm originally designed for \n",
    "\n",
    "\n",
    "\n",
    "\n",
    "\n",
    "Condensed Nearest Neighbor (CNN) - Hart, P. (1968). The condensed nearest neighbor rule (Corresp.). IEEE transactions on information theory, 14(3), 515-516."
   ]
  },
  {
   "cell_type": "code",
   "execution_count": 220,
   "metadata": {},
   "outputs": [],
   "source": [
    "#Support multiple minorClass - take minorClass as a list input \n",
    "def condensed_NN_balancing(X, y, minorClass = None, random_state = 0):\n",
    "    X,y = shuffle_two_list(X,y)\n",
    "    if minorClass == None:\n",
    "        least_frequent_items = get_least_frequent_items(y)\n",
    "        #print(\"Finding least frequent items...\")\n",
    "        #print(\"Add it(them) to the minorClass...\")\n",
    "        minorClass = least_frequent_items\n",
    "        \n",
    "    index_minorClass = [index for index, y_i in enumerate(y) if y_i in minorClass]\n",
    "    \n",
    "    X_tuple, y_tuple = zip(*[(X[idx], y[idx]) for idx in index_minorClass])\n",
    "    X_store = list(X_tuple)\n",
    "    y_store = list(y_tuple)\n",
    "    #plot_data(X_store, y_store)\n",
    "    KN_clf = KNeighborsClassifier(n_neighbors=1)\n",
    "    KN_clf.fit(X_store, y_store)\n",
    "    for X_i, y_i in zip(X,y):\n",
    "        if(y_i not in minorClass and KN_clf.predict([X_i])!=y_i):\n",
    "            X_store.append(X_i)\n",
    "            y_store.append(y_i)\n",
    "            KN_clf.fit(X_store, y_store)\n",
    "    \n",
    "    return X_store, y_store"
   ]
  },
  {
   "cell_type": "code",
   "execution_count": 246,
   "metadata": {},
   "outputs": [],
   "source": [
    "def TomekLinkSelection(X, y, metric='l2', random_state = 0):\n",
    "    minority = [y_i for y_i in set(y) if y_i not in get_least_frequent_items(y)]\n",
    "\n",
    "    sample_index = []\n",
    "    positive_index = []\n",
    "    for index, y_value in enumerate(y):\n",
    "        if(y_value not in minority):\n",
    "            positive_index.append(index)\n",
    "    sample_index = positive_index\n",
    "    while True:\n",
    "        random_negative_index = random.randint(0, len(y)-1)\n",
    "        if(random_negative_index not in sample_index):\n",
    "            sample_index.append(random_negative_index)\n",
    "            break\n",
    "   \n",
    "    training_samples_X = [X[index] for index in sample_index]\n",
    "    training_samples_y = [y[index] for index in sample_index]\n",
    "    #plot_data(training_samples_X,training_samples_y, title=\"Positive Example w/ One Negative Example\")\n",
    "    \n",
    "    \n",
    "    \n",
    "    misclassified_index = []\n",
    "    KN_clf = KNeighborsClassifier(n_neighbors=1)\n",
    "    KN_clf.fit(training_samples_X,  training_samples_y)\n",
    "    KN_clf_pred =  KN_clf.predict(X)\n",
    "    for index, result in enumerate(KN_clf_pred):\n",
    "        if(y[index]!=result):\n",
    "            misclassified_index.append(index)\n",
    "\n",
    "    C = sample_index + misclassified_index\n",
    "    \n",
    "    C_X = [X[index] for index in C]\n",
    "    C_y = [y[index] for index in C]\n",
    "    #plot_data(C_X,C_y, title=\"Previous Graph with Misclassified Data Points\")\n",
    "    \n",
    "    \n",
    "    kneighbor = NearestNeighbors(n_neighbors=2)\n",
    "    kneighbor.fit(X)\n",
    "    kneighbors = [neighbor[1] for neighbor in kneighbor.kneighbors(X)[1]]\n",
    "    \n",
    "    \n",
    "    tomek_link_index = []\n",
    "    for index, neighbor_index in enumerate(kneighbors):\n",
    "        if(kneighbors[neighbor_index] == index and y[neighbor_index] != y[index]):\n",
    "            tomek_link_index.append(index)\n",
    "    #print(tomek_link_index)\n",
    "    X_T = [X[index] for index in C if (index in positive_index or index not in tomek_link_index)]\n",
    "    y_T = [y[index] for index in C if (index in positive_index or index not in tomek_link_index)]\n",
    "\n",
    "    return X_T, y_T"
   ]
  },
  {
   "cell_type": "code",
   "execution_count": 541,
   "metadata": {},
   "outputs": [],
   "source": [
    "def NeighborCleaningRule(X, y, minorClass=None, metric='l2', random_state = 0):\n",
    "    X = list(X)\n",
    "    y = list(y)\n",
    "    if(minorClass==None):\n",
    "        least_frequent_items = get_least_frequent_items(y)\n",
    "        if(len(least_frequent_items)==1):\n",
    "            #print(\"Found a least frequent item...\")\n",
    "            #print(\"Setting it as minority class...\")\n",
    "            minorClass = least_frequent_items[0]\n",
    "        else:\n",
    "            #print(\"Found multiple least frequent items...\")\n",
    "            #print(\"Randomly pick one as the minority class...\")\n",
    "            minorClass = least_frequent_items[random.randint(0, len(least_frequent_items)-1)]\n",
    "    index_minorClass = [index for index, x in enumerate(X) if y[index] == minorClass]\n",
    "    \n",
    "    #Get class values with |Minor Class| * 0.5 > |Class_i|\n",
    "    class_value = set(y)\n",
    "    weak_class = []\n",
    "    minorClass_count = y.count(minorClass)\n",
    "    for value in class_value:\n",
    "        if y.count(value) < 0.5 * minorClass_count:\n",
    "            weak_class.append(value)\n",
    "\n",
    "    misclassified_index = []\n",
    "    KN_clf = KNeighborsClassifier(n_neighbors=3)\n",
    "    KN_clf.fit(X, y)\n",
    "    KN_clf_pred =  KN_clf.predict(X)\n",
    "    for index, result in enumerate(KN_clf_pred):\n",
    "        if(y[index]!=result):\n",
    "            misclassified_index.append(index)\n",
    "    A_1 = [index for index, X_item in enumerate(X) \n",
    "           if (y[index]!=KN_clf_pred[index] and y[index] != minorClass)]\n",
    "    A_2 = []\n",
    "    for index in index_minorClass:\n",
    "        if(KN_clf_pred[index]!=y[index]):\n",
    "            nearest_neighbor_index = list(KN_clf.kneighbors([X[index]], \n",
    "                                          n_neighbors=4, \n",
    "                                          return_distance=False)[0])\n",
    "            try:\n",
    "                nearest_neighbor_index.remove(index)\n",
    "            except:\n",
    "                pass\n",
    "            A_2 += [i for i in nearest_neighbor_index if (y[i] not in weak_class and y[i]!=minorClass)]\n",
    "    S_index = set(range(len(X))).difference(set(A_1 + A_2))\n",
    "    \n",
    "    X_T = [X[index] for index in S_index]\n",
    "    y_T = [y[index] for index in S_index]\n",
    "    return X_T, y_T"
   ]
  },
  {
   "cell_type": "code",
   "execution_count": 305,
   "metadata": {},
   "outputs": [],
   "source": [
    "def oneHotEncoding(X):\n",
    "    numerics = ['int16', 'int32', 'int64', 'float16', 'float32', 'float64']\n",
    "    df = pd.DataFrame(list(zip(*X)))\n",
    "    dv = DictVectorizer(sparse=False)\n",
    "    pd_nonnumeric = pd.get_dummies(df[df.isin(df.select_dtypes(exclude=numerics))].dropna(1))\n",
    "    pd_numeric = pd.get_dummies(df[df.isin(df.select_dtypes(include=numerics))].dropna(1))\n",
    "    pd_final = pd.concat([pd_nonnumeric, pd_numeric], axis=1, join_axes=[pd_nonnumeric.index])\n",
    "    final = pd_final.to_dict()\n",
    "    data = []\n",
    "    for key, values in final.items():\n",
    "        datum = []\n",
    "        for _, value in values.items():\n",
    "            datum.append(value)\n",
    "        data.append(datum)\n",
    "    return list(zip(*data))"
   ]
  },
  {
   "cell_type": "code",
   "execution_count": 456,
   "metadata": {},
   "outputs": [],
   "source": [
    "def cross_validation(X, y, model, sampling = None, kfold=5):\n",
    "    print(\"---------------------------\")\n",
    "    if sampling == None:\n",
    "        print(\"With no sampling method...\")\n",
    "    else:\n",
    "        print(\"Using {0}...\".format(sampling.__name__))\n",
    "    X = np.array(X)\n",
    "    y = np.array(y)\n",
    "    kf = KFold(n_splits=kfold)\n",
    "    score = 0\n",
    "    training_size = 0\n",
    "    for train_index, test_index in kf.split(X):\n",
    "        X_train, X_test = X[train_index], X[test_index]\n",
    "        y_train, y_test = y[train_index], y[test_index]\n",
    "        after_training_size = original_training_size = len(X_train)\n",
    "        if(sampling!=None):\n",
    "            X_train, y_train = sampling(X_train, y_train)\n",
    "            after_training_size = len(X_train)\n",
    "        training_size += 100*after_training_size/original_training_size\n",
    "        model.fit(X_train, y_train)\n",
    "        score += model.score(X_test, y_test)\n",
    "    print(\"Percentage retained: {0}%\".format(training_size/kfold))\n",
    "\n",
    "    return score/float(kfold)"
   ]
  },
  {
   "cell_type": "code",
   "execution_count": null,
   "metadata": {},
   "outputs": [],
   "source": []
  },
  {
   "cell_type": "code",
   "execution_count": 548,
   "metadata": {},
   "outputs": [],
   "source": [
    "number_of_entry = 160\n",
    "X = [[random.gauss(2,0.1),random.gauss(2,0.3)] for i in range(int(number_of_entry/8)) ]\n",
    "X += [[random.gauss(2,0.1),random.gauss(3,0.3)] for i in range(int(7*number_of_entry/8))]\n",
    "y = [0 if i >=number_of_entry/8 else 1 for i in range(number_of_entry)]"
   ]
  },
  {
   "cell_type": "code",
   "execution_count": 549,
   "metadata": {},
   "outputs": [
    {
     "data": {
      "image/png": "[encoded data removed]",
      "text/plain": [
       "<matplotlib.figure.Figure at 0x25a079d8198>"
      ]
     },
     "metadata": {},
     "output_type": "display_data"
    }
   ],
   "source": [
    "plot_data(X,y, \"Two normal distributed group\")"
   ]
  },
  {
   "cell_type": "code",
   "execution_count": 550,
   "metadata": {},
   "outputs": [
    {
     "data": {
      "image/png": "[encoded data removed]",
      "text/plain": [
       "<matplotlib.figure.Figure at 0x25a079e8710>"
      ]
     },
     "metadata": {},
     "output_type": "display_data"
    }
   ],
   "source": [
    "X_ran, y_ran = random_downdsampling(X,y)\n",
    "plot_data(X_ran, y_ran)"
   ]
  },
  {
   "cell_type": "code",
   "execution_count": 551,
   "metadata": {},
   "outputs": [
    {
     "data": {
      "image/png": "[encoded data removed]",
      "text/plain": [
       "<matplotlib.figure.Figure at 0x25a0811d358>"
      ]
     },
     "metadata": {},
     "output_type": "display_data"
    }
   ],
   "source": [
    "X_cnn, y_cnn = condensed_NN_balancing(X,y)\n",
    "plot_data(X_cnn, y_cnn)"
   ]
  },
  {
   "cell_type": "code",
   "execution_count": 552,
   "metadata": {},
   "outputs": [
    {
     "data": {
      "image/png": "[encoded data removed]",
      "text/plain": [
       "<matplotlib.figure.Figure at 0x25a0766f630>"
      ]
     },
     "metadata": {},
     "output_type": "display_data"
    }
   ],
   "source": [
    "X_tom, y_tom = TomekLinkSelection(X,y)\n",
    "plot_data(X_tom, y_tom)"
   ]
  },
  {
   "cell_type": "code",
   "execution_count": 553,
   "metadata": {},
   "outputs": [
    {
     "data": {
      "image/png": "[encoded data removed]",
      "text/plain": [
       "<matplotlib.figure.Figure at 0x25a060a41d0>"
      ]
     },
     "metadata": {},
     "output_type": "display_data"
    }
   ],
   "source": [
    "X_ncr, y_ncr = NeighborCleaningRule(X,y)\n",
    "plot_data(X_ncr, y_ncr)"
   ]
  },
  {
   "cell_type": "code",
   "execution_count": 554,
   "metadata": {},
   "outputs": [
    {
     "name": "stdout",
     "output_type": "stream",
     "text": [
      "---------------------------\n",
      "With no sampling method...\n",
      "Percentage retained: 100.0%\n",
      "Accuracy:  0.86875\n",
      "---------------------------\n",
      "Using condensed_NN_balancing...\n",
      "Percentage retained: 37.1875%\n",
      "Accuracy:  0.075\n",
      "---------------------------\n",
      "Using TomekLinkSelection...\n"
     ]
    },
    {
     "ename": "KeyboardInterrupt",
     "evalue": "",
     "output_type": "error",
     "traceback": [
      "\u001b[1;31m---------------------------------------------------------------------------\u001b[0m",
      "\u001b[1;31mKeyboardInterrupt\u001b[0m                         Traceback (most recent call last)",
      "\u001b[1;32m<ipython-input-554-b6f6e7d4098c>\u001b[0m in \u001b[0;36m<module>\u001b[1;34m()\u001b[0m\n\u001b[0;32m      2\u001b[0m \u001b[0mprint\u001b[0m\u001b[1;33m(\u001b[0m\u001b[1;34m\"Accuracy: \"\u001b[0m\u001b[1;33m,\u001b[0m \u001b[0mcross_validation\u001b[0m\u001b[1;33m(\u001b[0m\u001b[0mX\u001b[0m\u001b[1;33m,\u001b[0m \u001b[0my\u001b[0m\u001b[1;33m,\u001b[0m \u001b[0mknn_clf\u001b[0m\u001b[1;33m,\u001b[0m \u001b[0mkfold\u001b[0m\u001b[1;33m=\u001b[0m\u001b[1;36m5\u001b[0m\u001b[1;33m)\u001b[0m\u001b[1;33m)\u001b[0m\u001b[1;33m\u001b[0m\u001b[0m\n\u001b[0;32m      3\u001b[0m \u001b[0mprint\u001b[0m\u001b[1;33m(\u001b[0m\u001b[1;34m\"Accuracy: \"\u001b[0m\u001b[1;33m,\u001b[0m \u001b[0mcross_validation\u001b[0m\u001b[1;33m(\u001b[0m\u001b[0mX\u001b[0m\u001b[1;33m,\u001b[0m \u001b[0my\u001b[0m\u001b[1;33m,\u001b[0m \u001b[0mknn_clf\u001b[0m\u001b[1;33m,\u001b[0m \u001b[0mcondensed_NN_balancing\u001b[0m\u001b[1;33m,\u001b[0m \u001b[0mkfold\u001b[0m\u001b[1;33m=\u001b[0m\u001b[1;36m5\u001b[0m\u001b[1;33m)\u001b[0m\u001b[1;33m)\u001b[0m\u001b[1;33m\u001b[0m\u001b[0m\n\u001b[1;32m----> 4\u001b[1;33m \u001b[0mprint\u001b[0m\u001b[1;33m(\u001b[0m\u001b[1;34m\"Accuracy: \"\u001b[0m\u001b[1;33m,\u001b[0m \u001b[0mcross_validation\u001b[0m\u001b[1;33m(\u001b[0m\u001b[0mX\u001b[0m\u001b[1;33m,\u001b[0m \u001b[0my\u001b[0m\u001b[1;33m,\u001b[0m \u001b[0mknn_clf\u001b[0m\u001b[1;33m,\u001b[0m \u001b[0mTomekLinkSelection\u001b[0m\u001b[1;33m,\u001b[0m \u001b[0mkfold\u001b[0m\u001b[1;33m=\u001b[0m\u001b[1;36m5\u001b[0m\u001b[1;33m)\u001b[0m\u001b[1;33m)\u001b[0m\u001b[1;33m\u001b[0m\u001b[0m\n\u001b[0m\u001b[0;32m      5\u001b[0m \u001b[0mprint\u001b[0m\u001b[1;33m(\u001b[0m\u001b[1;34m\"Accuracy: \"\u001b[0m\u001b[1;33m,\u001b[0m \u001b[0mcross_validation\u001b[0m\u001b[1;33m(\u001b[0m\u001b[0mX\u001b[0m\u001b[1;33m,\u001b[0m \u001b[0my\u001b[0m\u001b[1;33m,\u001b[0m \u001b[0mknn_clf\u001b[0m\u001b[1;33m,\u001b[0m \u001b[0mNeighborCleaningRule\u001b[0m\u001b[1;33m,\u001b[0m \u001b[0mkfold\u001b[0m\u001b[1;33m=\u001b[0m\u001b[1;36m5\u001b[0m\u001b[1;33m)\u001b[0m\u001b[1;33m)\u001b[0m\u001b[1;33m\u001b[0m\u001b[0m\n\u001b[0;32m      6\u001b[0m \u001b[0mprint\u001b[0m\u001b[1;33m(\u001b[0m\u001b[1;34m\"Accuracy: \"\u001b[0m\u001b[1;33m,\u001b[0m \u001b[0mcross_validation\u001b[0m\u001b[1;33m(\u001b[0m\u001b[0mX\u001b[0m\u001b[1;33m,\u001b[0m \u001b[0my\u001b[0m\u001b[1;33m,\u001b[0m \u001b[0mknn_clf\u001b[0m\u001b[1;33m,\u001b[0m \u001b[0mrandom_downdsampling\u001b[0m\u001b[1;33m,\u001b[0m \u001b[0mkfold\u001b[0m\u001b[1;33m=\u001b[0m\u001b[1;36m5\u001b[0m\u001b[1;33m)\u001b[0m\u001b[1;33m)\u001b[0m\u001b[1;33m\u001b[0m\u001b[0m\n",
      "\u001b[1;32m<ipython-input-456-7b57c8de34a6>\u001b[0m in \u001b[0;36mcross_validation\u001b[1;34m(X, y, model, sampling, kfold)\u001b[0m\n\u001b[0;32m     15\u001b[0m         \u001b[0mafter_training_size\u001b[0m \u001b[1;33m=\u001b[0m \u001b[0moriginal_training_size\u001b[0m \u001b[1;33m=\u001b[0m \u001b[0mlen\u001b[0m\u001b[1;33m(\u001b[0m\u001b[0mX_train\u001b[0m\u001b[1;33m)\u001b[0m\u001b[1;33m\u001b[0m\u001b[0m\n\u001b[0;32m     16\u001b[0m         \u001b[1;32mif\u001b[0m\u001b[1;33m(\u001b[0m\u001b[0msampling\u001b[0m\u001b[1;33m!=\u001b[0m\u001b[1;32mNone\u001b[0m\u001b[1;33m)\u001b[0m\u001b[1;33m:\u001b[0m\u001b[1;33m\u001b[0m\u001b[0m\n\u001b[1;32m---> 17\u001b[1;33m             \u001b[0mX_train\u001b[0m\u001b[1;33m,\u001b[0m \u001b[0my_train\u001b[0m \u001b[1;33m=\u001b[0m \u001b[0msampling\u001b[0m\u001b[1;33m(\u001b[0m\u001b[0mX_train\u001b[0m\u001b[1;33m,\u001b[0m \u001b[0my_train\u001b[0m\u001b[1;33m)\u001b[0m\u001b[1;33m\u001b[0m\u001b[0m\n\u001b[0m\u001b[0;32m     18\u001b[0m             \u001b[0mafter_training_size\u001b[0m \u001b[1;33m=\u001b[0m \u001b[0mlen\u001b[0m\u001b[1;33m(\u001b[0m\u001b[0mX_train\u001b[0m\u001b[1;33m)\u001b[0m\u001b[1;33m\u001b[0m\u001b[0m\n\u001b[0;32m     19\u001b[0m         \u001b[0mtraining_size\u001b[0m \u001b[1;33m+=\u001b[0m \u001b[1;36m100\u001b[0m\u001b[1;33m*\u001b[0m\u001b[0mafter_training_size\u001b[0m\u001b[1;33m/\u001b[0m\u001b[0moriginal_training_size\u001b[0m\u001b[1;33m\u001b[0m\u001b[0m\n",
      "\u001b[1;32m<ipython-input-246-0c77a2ab57df>\u001b[0m in \u001b[0;36mTomekLinkSelection\u001b[1;34m(X, y, metric, random_state)\u001b[0m\n\u001b[0;32m      9\u001b[0m     \u001b[0msample_index\u001b[0m \u001b[1;33m=\u001b[0m \u001b[0mpositive_index\u001b[0m\u001b[1;33m\u001b[0m\u001b[0m\n\u001b[0;32m     10\u001b[0m     \u001b[1;32mwhile\u001b[0m \u001b[1;32mTrue\u001b[0m\u001b[1;33m:\u001b[0m\u001b[1;33m\u001b[0m\u001b[0m\n\u001b[1;32m---> 11\u001b[1;33m         \u001b[0mrandom_negative_index\u001b[0m \u001b[1;33m=\u001b[0m \u001b[0mrandom\u001b[0m\u001b[1;33m.\u001b[0m\u001b[0mrandint\u001b[0m\u001b[1;33m(\u001b[0m\u001b[1;36m0\u001b[0m\u001b[1;33m,\u001b[0m \u001b[0mlen\u001b[0m\u001b[1;33m(\u001b[0m\u001b[0my\u001b[0m\u001b[1;33m)\u001b[0m\u001b[1;33m-\u001b[0m\u001b[1;36m1\u001b[0m\u001b[1;33m)\u001b[0m\u001b[1;33m\u001b[0m\u001b[0m\n\u001b[0m\u001b[0;32m     12\u001b[0m         \u001b[1;32mif\u001b[0m\u001b[1;33m(\u001b[0m\u001b[0mrandom_negative_index\u001b[0m \u001b[1;32mnot\u001b[0m \u001b[1;32min\u001b[0m \u001b[0msample_index\u001b[0m\u001b[1;33m)\u001b[0m\u001b[1;33m:\u001b[0m\u001b[1;33m\u001b[0m\u001b[0m\n\u001b[0;32m     13\u001b[0m             \u001b[0msample_index\u001b[0m\u001b[1;33m.\u001b[0m\u001b[0mappend\u001b[0m\u001b[1;33m(\u001b[0m\u001b[0mrandom_negative_index\u001b[0m\u001b[1;33m)\u001b[0m\u001b[1;33m\u001b[0m\u001b[0m\n",
      "\u001b[1;31mKeyboardInterrupt\u001b[0m: "
     ]
    }
   ],
   "source": [
    "knn_clf = KNeighborsClassifier(n_neighbors=20)\n",
    "print(\"Accuracy: \", cross_validation(X, y, knn_clf, kfold=5))\n",
    "print(\"Accuracy: \", cross_validation(X, y, knn_clf, condensed_NN_balancing, kfold=5))\n",
    "print(\"Accuracy: \", cross_validation(X, y, knn_clf, TomekLinkSelection, kfold=5))\n",
    "print(\"Accuracy: \", cross_validation(X, y, knn_clf, NeighborCleaningRule, kfold=5))\n",
    "print(\"Accuracy: \", cross_validation(X, y, knn_clf, random_downdsampling, kfold=5))\n"
   ]
  },
  {
   "cell_type": "code",
   "execution_count": null,
   "metadata": {},
   "outputs": [],
   "source": []
  },
  {
   "cell_type": "code",
   "execution_count": null,
   "metadata": {},
   "outputs": [],
   "source": []
  },
  {
   "cell_type": "code",
   "execution_count": null,
   "metadata": {},
   "outputs": [],
   "source": []
  },
  {
   "cell_type": "code",
   "execution_count": null,
   "metadata": {},
   "outputs": [],
   "source": [
    "german_data = []\n",
    "with open('./dataset/german.data.txt', 'r') as f:\n",
    "    data = f.readlines()\n",
    "    for datum in data:\n",
    "        datum = datum.strip()\n",
    "        german_data.append(datum.split(' '))\n",
    "    german_data = list(zip(*german_data))\n",
    "for index, column in enumerate(german_data):\n",
    "    if column[0].isdigit():\n",
    "        german_data[index] = [int(value) for value in column]"
   ]
  },
  {
   "cell_type": "code",
   "execution_count": 432,
   "metadata": {},
   "outputs": [],
   "source": [
    "(german_data_X, german_data_y) = (german_data[:-1], german_data[-1])\n",
    "german_data_X = oneHotEncoding(german_data_X)\n",
    "scaler = MinMaxScaler()\n",
    "german_data_X_minmax = scaler.fit_transform(german_data_X)"
   ]
  },
  {
   "cell_type": "code",
   "execution_count": 433,
   "metadata": {},
   "outputs": [
    {
     "data": {
      "text/plain": [
       "0.726"
      ]
     },
     "execution_count": 433,
     "metadata": {},
     "output_type": "execute_result"
    }
   ],
   "source": [
    "knn_clf = KNeighborsClassifier(n_neighbors=20)\n",
    "cross_validation(german_data_X_minmax, german_data_y, knn_clf, kfold=5)"
   ]
  },
  {
   "cell_type": "code",
   "execution_count": 464,
   "metadata": {},
   "outputs": [
    {
     "name": "stdout",
     "output_type": "stream",
     "text": [
      "---------------------------\n",
      "With no sampling method...\n",
      "Percentage retained: 100.0%\n",
      "Accuracy:  0.726\n",
      "---------------------------\n",
      "Using condensed_NN_balancing...\n",
      "Percentage retained: 63.025%\n",
      "Accuracy:  0.709\n",
      "---------------------------\n",
      "Using TomekLinkSelection...\n",
      "Percentage retained: 94.175%\n",
      "Accuracy:  0.7289999999999999\n",
      "---------------------------\n",
      "Using NeighborCleaningRule...\n",
      "Percentage retained: 74.675%\n",
      "Accuracy:  0.705\n",
      "---------------------------\n",
      "Using random_downdsampling...\n",
      "Percentage retained: 60.0%\n",
      "Accuracy:  0.695\n"
     ]
    }
   ],
   "source": [
    "X = german_data_X_minmax\n",
    "y = german_data_y\n",
    "knn_clf = KNeighborsClassifier(n_neighbors=20)\n",
    "print(\"Accuracy: \", cross_validation(X, y, knn_clf, kfold=5))\n",
    "print(\"Accuracy: \", cross_validation(X, y, knn_clf, condensed_NN_balancing, kfold=5))\n",
    "print(\"Accuracy: \", cross_validation(X, y, knn_clf, TomekLinkSelection, kfold=5))\n",
    "print(\"Accuracy: \", cross_validation(X, y, knn_clf, NeighborCleaningRule, kfold=5))\n",
    "print(\"Accuracy: \", cross_validation(X, y, knn_clf, random_downdsampling, kfold=5))\n"
   ]
  },
  {
   "cell_type": "code",
   "execution_count": 459,
   "metadata": {},
   "outputs": [],
   "source": [
    "nursery_data = []\n",
    "with open('./dataset/nursery.data.txt', 'r') as f:\n",
    "    data = f.readlines()\n",
    "    for datum in data:\n",
    "        datum = datum.strip()\n",
    "        datum = datum.split(',')\n",
    "        if(len(datum)==9):\n",
    "            nursery_data.append(datum)\n",
    "    nursery_data = list(zip(*nursery_data))\n",
    "for index, column in enumerate(nursery_data):\n",
    "    if column[0].isdigit() and index!=3:\n",
    "        nursery_data[index] = [int(value) for value in column]\n",
    "    elif index == 3:\n",
    "        nursery_data[index]=[int(value) if value.isdigit() else 4 for value in column]\n"
   ]
  },
  {
   "cell_type": "code",
   "execution_count": 460,
   "metadata": {},
   "outputs": [],
   "source": [
    "nursery_data_X = nursery_data[:-1]\n",
    "nursery_data_y = nursery_data[-1]"
   ]
  },
  {
   "cell_type": "code",
   "execution_count": 461,
   "metadata": {},
   "outputs": [],
   "source": [
    "le_0 = preprocessing.LabelEncoder()\n",
    "le_0.fit([\"usual\", \"pretentious\", \"great_pret\"])\n",
    "nursery_data_X[0] = list(le_0.transform(nursery_data_X[0]))\n",
    "\n",
    "le_1 = preprocessing.LabelEncoder()\n",
    "le_1.fit(['proper', 'less_proper', 'improper', 'critical', 'very_crit'])\n",
    "nursery_data_X[1] = list(le_1.transform(nursery_data_X[1]))\n",
    "\n",
    "\n",
    "le_2 = preprocessing.LabelEncoder()\n",
    "le_2.fit(['complete', 'completed', 'incomplete', 'foster'])\n",
    "nursery_data_X[2] = list(le_2.transform(nursery_data_X[2]))\n",
    "\n",
    "le_4 = preprocessing.LabelEncoder()\n",
    "le_4.fit(['convenient', 'less_conv', 'critical'])\n",
    "nursery_data_X[4] = list(le_4.transform(nursery_data_X[4]))\n",
    "\n",
    "le_5 = preprocessing.LabelEncoder()\n",
    "le_5.fit(['convenient', 'inconv'])\n",
    "nursery_data_X[5] = list(le_5.transform(nursery_data_X[5]))\n",
    "\n",
    "le_6 = preprocessing.LabelEncoder()\n",
    "le_6.fit(['nonprob', 'slightly_prob', 'problematic'])\n",
    "nursery_data_X[6] = list(le_6.transform(nursery_data_X[6]))\n",
    "\n",
    "le_7 = preprocessing.LabelEncoder()\n",
    "le_7.fit(['recommended', 'priority', 'not_recom'])\n",
    "nursery_data_X[7] = list(le_7.transform(nursery_data_X[7]))\n",
    "\n",
    "nursery_data_y = ['recommend' if y_i !='not_recom' else 'not_recom' for y_i in nursery_data_y]"
   ]
  },
  {
   "cell_type": "code",
   "execution_count": 462,
   "metadata": {},
   "outputs": [],
   "source": [
    "nursery_data_X = list(zip(*nursery_data_X))\n"
   ]
  },
  {
   "cell_type": "code",
   "execution_count": 465,
   "metadata": {},
   "outputs": [
    {
     "name": "stdout",
     "output_type": "stream",
     "text": [
      "---------------------------\n",
      "With no sampling method...\n",
      "Percentage retained: 100.0%\n",
      "Accuracy:  1.0\n",
      "---------------------------\n",
      "Using condensed_NN_balancing...\n",
      "Percentage retained: 48.863811728395056%\n",
      "Accuracy:  0.9807870370370371\n",
      "---------------------------\n",
      "Using TomekLinkSelection...\n",
      "Percentage retained: 98.1712962962963%\n",
      "Accuracy:  1.0\n",
      "---------------------------\n",
      "Using NeighborCleaningRule...\n",
      "Percentage retained: 100.0%\n",
      "Accuracy:  1.0\n",
      "---------------------------\n",
      "Using random_downdsampling...\n",
      "Percentage retained: 66.66666666666667%\n",
      "Accuracy:  0.9091820987654321\n"
     ]
    }
   ],
   "source": [
    "X = nursery_data_X\n",
    "y = nursery_data_y\n",
    "knn_clf = KNeighborsClassifier(n_neighbors=20)\n",
    "print(\"Accuracy: \", cross_validation(X, y, knn_clf, kfold=5))\n",
    "print(\"Accuracy: \", cross_validation(X, y, knn_clf, condensed_NN_balancing, kfold=5))\n",
    "print(\"Accuracy: \", cross_validation(X, y, knn_clf, TomekLinkSelection, kfold=5))\n",
    "print(\"Accuracy: \", cross_validation(X, y, knn_clf, NeighborCleaningRule, kfold=5))\n",
    "print(\"Accuracy: \", cross_validation(X, y, knn_clf, random_downdsampling, kfold=5))\n"
   ]
  },
  {
   "cell_type": "code",
   "execution_count": 530,
   "metadata": {},
   "outputs": [],
   "source": [
    "SPECT_data = []\n",
    "for file_name in ['test', 'train']:\n",
    "    with open('./dataset/SPECT.{0}.txt'.format(file_name), 'r') as f:\n",
    "        data = f.readlines()\n",
    "        for datum in data:\n",
    "            datum = datum.strip()\n",
    "            datum = datum.split(',')\n",
    "            SPECT_data.append(datum)\n",
    "SPECT_data = list(zip(*SPECT_data))\n",
    "\n",
    "SPECT_data_y = SPECT_data[0]\n",
    "SPECT_data_X = list(zip(*SPECT_data[1:]))\n",
    "SPECT_data_X, SPECT_data_y = shuffle(SPECT_data_X, SPECT_data_y)"
   ]
  },
  {
   "cell_type": "code",
   "execution_count": 547,
   "metadata": {},
   "outputs": [
    {
     "name": "stdout",
     "output_type": "stream",
     "text": [
      "---------------------------\n",
      "With no sampling method...\n",
      "Percentage retained: 100.0%\n",
      "Accuracy:  0.7900768693221524\n",
      "---------------------------\n",
      "Using condensed_NN_balancing...\n",
      "Percentage retained: 53.5592997235751%\n",
      "Accuracy:  0.7339622641509435\n",
      "---------------------------\n",
      "Using TomekLinkSelection...\n",
      "Percentage retained: 95.2244306963275%\n",
      "Accuracy:  0.7862334032145354\n",
      "---------------------------\n",
      "Using NeighborCleaningRule...\n",
      "Percentage retained: 82.86648238339694%\n",
      "Accuracy:  0.7449336128581411\n",
      "---------------------------\n",
      "Using random_downdsampling...\n",
      "Percentage retained: 41.199596331885395%\n",
      "Accuracy:  0.59916142557652\n"
     ]
    }
   ],
   "source": [
    "X = SPECT_data_X\n",
    "y = SPECT_data_y\n",
    "knn_clf = KNeighborsClassifier(n_neighbors=5)\n",
    "print(\"Accuracy: \", cross_validation(X, y, knn_clf, kfold=5))\n",
    "print(\"Accuracy: \", cross_validation(X, y, knn_clf, condensed_NN_balancing, kfold=5))\n",
    "print(\"Accuracy: \", cross_validation(X, y, knn_clf, TomekLinkSelection, kfold=5))\n",
    "print(\"Accuracy: \", cross_validation(X, y, knn_clf, NeighborCleaningRule, kfold=5))\n",
    "print(\"Accuracy: \", cross_validation(X, y, knn_clf, random_downdsampling, kfold=5))\n"
   ]
  }
 ],
 "metadata": {
  "kernelspec": {
   "display_name": "Python [conda env:py36]",
   "language": "python",
   "name": "conda-env-py36-py"
  },
  "language_info": {
   "codemirror_mode": {
    "name": "ipython",
    "version": 3
   },
   "file_extension": ".py",
   "mimetype": "text/x-python",
   "name": "python",
   "nbconvert_exporter": "python",
   "pygments_lexer": "ipython3",
   "version": "3.6.4"
  }
 },
 "nbformat": 4,
 "nbformat_minor": 2
}
